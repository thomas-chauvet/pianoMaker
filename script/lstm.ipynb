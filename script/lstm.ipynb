{
 "cells": [
  {
   "cell_type": "markdown",
   "metadata": {},
   "source": [
    "# Libraries"
   ]
  },
  {
   "cell_type": "code",
   "execution_count": 1,
   "metadata": {
    "ExecuteTime": {
     "end_time": "2018-11-25T20:11:50.098986Z",
     "start_time": "2018-11-25T20:11:46.102746Z"
    }
   },
   "outputs": [
    {
     "name": "stdout",
     "output_type": "stream",
     "text": [
      "pygame 1.9.4\n",
      "Hello from the pygame community. https://www.pygame.org/contribute.html\n"
     ]
    },
    {
     "name": "stderr",
     "output_type": "stream",
     "text": [
      "Using TensorFlow backend.\n"
     ]
    }
   ],
   "source": [
    "import logging\n",
    "logger = logging.getLogger()\n",
    "logger.setLevel(logging.INFO)\n",
    "\n",
    "import pretty_midi\n",
    "import pygame\n",
    "import os\n",
    "import pickle\n",
    "\n",
    "import numpy as np\n",
    "\n",
    "%matplotlib inline\n",
    "\n",
    "import matplotlib\n",
    "import matplotlib.pyplot as plt\n",
    "import seaborn as sns\n",
    "\n",
    "import random\n",
    "\n",
    "from keras.utils import to_categorical\n",
    "from keras.models import Sequential\n",
    "from keras.layers import Dense\n",
    "from keras.layers import Dropout\n",
    "from keras.layers import LSTM\n",
    "from keras.layers import Activation\n",
    "from keras.utils import np_utils\n",
    "from keras.callbacks import ModelCheckpoint"
   ]
  },
  {
   "cell_type": "code",
   "execution_count": 3,
   "metadata": {
    "ExecuteTime": {
     "end_time": "2018-11-25T20:11:50.190758Z",
     "start_time": "2018-11-25T20:11:50.185178Z"
    },
    "collapsed": true
   },
   "outputs": [],
   "source": [
    "def flatten(x):\n",
    "    return [item for sublist in x for item in sublist]"
   ]
  },
  {
   "cell_type": "markdown",
   "metadata": {},
   "source": [
    "# Piano Roll to MIDI"
   ]
  },
  {
   "cell_type": "code",
   "execution_count": 2,
   "metadata": {
    "ExecuteTime": {
     "end_time": "2018-11-25T20:11:50.182625Z",
     "start_time": "2018-11-25T20:11:50.102466Z"
    },
    "collapsed": true
   },
   "outputs": [],
   "source": [
    "def piano_roll_to_pretty_midi(piano_roll, fs=20, program=0):\n",
    "    notes, frames = piano_roll.shape\n",
    "    pm = pretty_midi.PrettyMIDI()\n",
    "    instrument = pretty_midi.Instrument(program=program)\n",
    "\n",
    "    # pad 1 column of zeros so we can acknowledge inital and ending events\n",
    "    piano_roll = np.pad(piano_roll, [(0, 0), (1, 1)], 'constant')\n",
    "\n",
    "    # use changes in velocities to find note on / note off events\n",
    "    velocity_changes = np.nonzero(np.diff(piano_roll).T)\n",
    "\n",
    "    # keep track on velocities and note on times\n",
    "    prev_velocities = np.zeros(notes, dtype=int)\n",
    "    note_on_time = np.zeros(notes)\n",
    "\n",
    "    for time, note in zip(*velocity_changes):\n",
    "        # use time + 1 because of padding above\n",
    "        velocity = piano_roll[note, time + 1]\n",
    "        time = time / fs\n",
    "        if velocity > 0:\n",
    "            if prev_velocities[note] == 0:\n",
    "                note_on_time[note] = time\n",
    "                prev_velocities[note] = velocity\n",
    "        else:\n",
    "            pm_note = pretty_midi.Note(\n",
    "                velocity=prev_velocities[note],\n",
    "                pitch=note,\n",
    "                start=note_on_time[note],\n",
    "                end=time)\n",
    "            instrument.notes.append(pm_note)\n",
    "            prev_velocities[note] = 0\n",
    "    pm.instruments.append(instrument)\n",
    "    return pm"
   ]
  },
  {
   "cell_type": "markdown",
   "metadata": {},
   "source": [
    "# Read midi files"
   ]
  },
  {
   "cell_type": "code",
   "execution_count": 4,
   "metadata": {
    "ExecuteTime": {
     "end_time": "2018-11-25T20:11:50.200822Z",
     "start_time": "2018-11-25T20:11:50.193374Z"
    },
    "collapsed": true
   },
   "outputs": [],
   "source": [
    "def get_all_songs_paths(base_dir):\n",
    "    artist_directories = [\n",
    "        base_dir + x for x in os.listdir(base_dir)\n",
    "        if x != '.DS_Store' and x != 'xmas'\n",
    "    ]\n",
    "    return flatten([[\n",
    "        path + \"/\" + x for x in os.listdir(path) if x.endswith(\"format0.mid\")\n",
    "    ] for path in artist_directories])"
   ]
  },
  {
   "cell_type": "code",
   "execution_count": 5,
   "metadata": {
    "ExecuteTime": {
     "end_time": "2018-11-25T20:12:05.567652Z",
     "start_time": "2018-11-25T20:11:50.203729Z"
    },
    "collapsed": true
   },
   "outputs": [],
   "source": [
    "path = \"../data/clean/midi_files_beethoven.p\"\n",
    "base_dir = \"../data/raw/beethoven/\"\n",
    "rerun = False\n",
    "\n",
    "if not os.path.isfile(path) or rerun:\n",
    "    midi_files = []\n",
    "    for path in os.listdir(base_dir):\n",
    "        logger.info(\"Read \" + path + \" file.\")\n",
    "        try:\n",
    "            midi_files.append(pretty_midi.PrettyMIDI(base_dir + path))\n",
    "        except:\n",
    "            logger.warning(path + \" impossible to read.\")\n",
    "    pickle.dump(midi_files, open(\"../data/clean/midi_files.p\", \"wb\"))\n",
    "else:\n",
    "    midi_files = pickle.load(open(\"../data/clean/midi_files.p\", \"rb\"))\n",
    "logger.info(str(len(midi_files)) + \" midi files.\")"
   ]
  },
  {
   "cell_type": "markdown",
   "metadata": {},
   "source": [
    "# Test of simplication"
   ]
  },
  {
   "cell_type": "code",
   "execution_count": 6,
   "metadata": {
    "ExecuteTime": {
     "end_time": "2018-11-25T20:12:05.861826Z",
     "start_time": "2018-11-25T20:12:05.569918Z"
    }
   },
   "outputs": [
    {
     "data": {
      "text/plain": [
       "(6, 0)"
      ]
     },
     "execution_count": 6,
     "metadata": {},
     "output_type": "execute_result"
    }
   ],
   "source": [
    "path = \"../data/temp/temp.mid\"\n",
    "pygame.init()"
   ]
  },
  {
   "cell_type": "markdown",
   "metadata": {},
   "source": [
    "## Test frequency sampling"
   ]
  },
  {
   "cell_type": "code",
   "execution_count": 7,
   "metadata": {
    "ExecuteTime": {
     "end_time": "2018-11-25T20:12:06.065597Z",
     "start_time": "2018-11-25T20:12:05.865839Z"
    },
    "collapsed": true
   },
   "outputs": [],
   "source": [
    "piano_roll_20 = midi_files[0].get_piano_roll(20)[:,:200]\n",
    "piano_roll_to_pretty_midi(piano_roll_20, 20).write(path)\n",
    "pygame.mixer.music.load(path)\n",
    "pygame.mixer.music.play()"
   ]
  },
  {
   "cell_type": "code",
   "execution_count": 8,
   "metadata": {
    "ExecuteTime": {
     "end_time": "2018-11-25T20:12:06.195047Z",
     "start_time": "2018-11-25T20:12:06.067959Z"
    },
    "collapsed": true
   },
   "outputs": [],
   "source": [
    "piano_roll_5 = midi_files[0].get_piano_roll(5)[:,:50]\n",
    "piano_roll_to_pretty_midi(piano_roll_5, 5).write(path)\n",
    "pygame.mixer.music.load(path)\n",
    "pygame.mixer.music.play()"
   ]
  },
  {
   "cell_type": "markdown",
   "metadata": {},
   "source": [
    "** not a huge difference => fs = 5 => smaller data (easier training) **"
   ]
  },
  {
   "cell_type": "markdown",
   "metadata": {},
   "source": [
    "## Test pitch\n",
    "\n",
    "Test if song is really different we take only one note at a time"
   ]
  },
  {
   "cell_type": "code",
   "execution_count": 9,
   "metadata": {
    "ExecuteTime": {
     "end_time": "2018-11-25T20:12:06.213003Z",
     "start_time": "2018-11-25T20:12:06.198411Z"
    }
   },
   "outputs": [
    {
     "data": {
      "text/plain": [
       "array([0., 0., 0., 0., 3., 0., 0., 0., 0.])"
      ]
     },
     "execution_count": 9,
     "metadata": {},
     "output_type": "execute_result"
    }
   ],
   "source": [
    "def get_only_max(x):\n",
    "    y = np.zeros(len(x))\n",
    "    maximum = x.max()\n",
    "    y[np.argmax(x)] = maximum\n",
    "    return y\n",
    "\n",
    "x = np.array([0, 1, 1, 2, 3, 2, 1, 3, 1])\n",
    "get_only_max(x)"
   ]
  },
  {
   "cell_type": "code",
   "execution_count": 10,
   "metadata": {
    "ExecuteTime": {
     "end_time": "2018-11-25T20:12:06.222451Z",
     "start_time": "2018-11-25T20:12:06.215511Z"
    },
    "collapsed": true
   },
   "outputs": [],
   "source": [
    "piano_roll_5_max = np.apply_along_axis(get_only_max, 0, piano_roll_5)"
   ]
  },
  {
   "cell_type": "code",
   "execution_count": 11,
   "metadata": {
    "ExecuteTime": {
     "end_time": "2018-11-25T20:12:08.046733Z",
     "start_time": "2018-11-25T20:12:06.225229Z"
    }
   },
   "outputs": [
    {
     "data": {
      "image/png": "[encoded data removed]",
      "text/plain": [
       "<matplotlib.figure.Figure at 0x12f83af60>"
      ]
     },
     "metadata": {},
     "output_type": "display_data"
    },
    {
     "data": {
      "image/png": "[encoded data removed]",
      "text/plain": [
       "<matplotlib.figure.Figure at 0x12c2c1da0>"
      ]
     },
     "metadata": {},
     "output_type": "display_data"
    }
   ],
   "source": [
    "plt.subplots(figsize=(12,6))\n",
    "sns.heatmap(piano_roll_5, cmap = sns.color_palette(\"YlOrRd\"))\n",
    "plt.title(\"Piano Roll with all notes (fs=5)\")\n",
    "plt.show()\n",
    "plt.subplots(figsize=(12,6))\n",
    "sns.heatmap(piano_roll_5_max, cmap = sns.color_palette(\"YlOrRd\"))\n",
    "plt.title(\"Piano Roll with only maximum note (fs=5)\")\n",
    "plt.show()"
   ]
  },
  {
   "cell_type": "code",
   "execution_count": 12,
   "metadata": {
    "ExecuteTime": {
     "end_time": "2018-11-25T20:12:08.107954Z",
     "start_time": "2018-11-25T20:12:08.049916Z"
    },
    "collapsed": true
   },
   "outputs": [],
   "source": [
    "piano_roll_to_pretty_midi(piano_roll_5, 5).write(path)\n",
    "pygame.mixer.music.load(path)\n",
    "pygame.mixer.music.play()"
   ]
  },
  {
   "cell_type": "code",
   "execution_count": 13,
   "metadata": {
    "ExecuteTime": {
     "end_time": "2018-11-25T20:12:08.176340Z",
     "start_time": "2018-11-25T20:12:08.111151Z"
    },
    "collapsed": true
   },
   "outputs": [],
   "source": [
    "piano_roll_to_pretty_midi(piano_roll_5_max, 5).write(path)\n",
    "pygame.mixer.music.load(path)\n",
    "pygame.mixer.music.play()"
   ]
  },
  {
   "cell_type": "markdown",
   "metadata": {},
   "source": [
    "** Not a big difference we will use a the max pitch to get only one note at the same time**"
   ]
  },
  {
   "cell_type": "markdown",
   "metadata": {},
   "source": [
    "# MIDI to simplified sequence of notes"
   ]
  },
  {
   "cell_type": "code",
   "execution_count": 14,
   "metadata": {
    "ExecuteTime": {
     "end_time": "2018-11-25T20:12:08.182877Z",
     "start_time": "2018-11-25T20:12:08.178943Z"
    },
    "collapsed": true
   },
   "outputs": [],
   "source": [
    "fs = 5"
   ]
  },
  {
   "cell_type": "code",
   "execution_count": 15,
   "metadata": {
    "ExecuteTime": {
     "end_time": "2018-11-25T20:12:08.193490Z",
     "start_time": "2018-11-25T20:12:08.185549Z"
    },
    "collapsed": true
   },
   "outputs": [],
   "source": [
    "def get_simplify_piano_roll(midi_file, fs=5):\n",
    "    x = midi_file.get_piano_roll(fs)\n",
    "    y = np.apply_along_axis(np.argmax, 0, x)\n",
    "    # if note not played => -1\n",
    "    y[np.apply_along_axis(np.max, 0, x) == 0] = -1\n",
    "    return y"
   ]
  },
  {
   "cell_type": "code",
   "execution_count": 16,
   "metadata": {
    "ExecuteTime": {
     "end_time": "2018-11-25T20:12:11.182983Z",
     "start_time": "2018-11-25T20:12:08.196470Z"
    },
    "collapsed": true
   },
   "outputs": [],
   "source": [
    "songs_piano_roll = [get_simplify_piano_roll(x, fs) for x in midi_files]"
   ]
  },
  {
   "cell_type": "code",
   "execution_count": 17,
   "metadata": {
    "ExecuteTime": {
     "end_time": "2018-11-25T20:12:11.209158Z",
     "start_time": "2018-11-25T20:12:11.185417Z"
    }
   },
   "outputs": [],
   "source": [
    "# Map note to integer from 0 to number of total notes\n",
    "all_notes = set(flatten([set(x) for x in songs_piano_roll]))\n",
    "note_to_int = dict((note, number) for number, note in enumerate(all_notes))"
   ]
  },
  {
   "cell_type": "code",
   "execution_count": 18,
   "metadata": {
    "ExecuteTime": {
     "end_time": "2018-11-25T20:12:11.251975Z",
     "start_time": "2018-11-25T20:12:11.211359Z"
    }
   },
   "outputs": [],
   "source": [
    "def mapping(song, note_to_int):\n",
    "    return [note_to_int[note] for note in song]\n",
    "\n",
    "songs_piano_roll = [mapping(song, note_to_int) for song in songs_piano_roll]"
   ]
  },
  {
   "cell_type": "markdown",
   "metadata": {},
   "source": [
    "# Prepare X, y"
   ]
  },
  {
   "cell_type": "code",
   "execution_count": 25,
   "metadata": {
    "ExecuteTime": {
     "end_time": "2018-11-25T20:18:00.251715Z",
     "start_time": "2018-11-25T20:18:00.243417Z"
    },
    "collapsed": true
   },
   "outputs": [],
   "source": [
    "def split_song(song, song_length, shift):\n",
    "    # we put a shift argument to avoid repetitive pattern in our data\n",
    "    X = list()\n",
    "    y = list()\n",
    "    for i in range(len(song) - song_length - 1):\n",
    "        if ((i % shift) == 0):\n",
    "            X.append(song[i:(i + song_length)])\n",
    "            y.append(song[(i + 1 + song_length)])\n",
    "    return X, y"
   ]
  },
  {
   "cell_type": "code",
   "execution_count": 26,
   "metadata": {
    "ExecuteTime": {
     "end_time": "2018-11-25T20:18:02.593054Z",
     "start_time": "2018-11-25T20:18:02.589209Z"
    }
   },
   "outputs": [],
   "source": [
    "# choose a duration (in seconds)\n",
    "duration = 30\n",
    "song_length = duration * fs"
   ]
  },
  {
   "cell_type": "code",
   "execution_count": 27,
   "metadata": {
    "ExecuteTime": {
     "end_time": "2018-11-25T20:18:04.205913Z",
     "start_time": "2018-11-25T20:18:03.357849Z"
    }
   },
   "outputs": [
    {
     "name": "stdout",
     "output_type": "stream",
     "text": [
      "(20156, 150)\n",
      "(20156, 150, 1)\n",
      "(20156,)\n"
     ]
    }
   ],
   "source": [
    "X_y = [split_song(song, song_length, 5) for song in songs_piano_roll]\n",
    "\n",
    "X = flatten([X for X, y in X_y])\n",
    "y = flatten([y for X, y in X_y])\n",
    "\n",
    "X = np.stack(X)\n",
    "print(X.shape)\n",
    "\n",
    "# Reshape for keras LSTM input\n",
    "n_patterns = len(X)\n",
    "X = np.reshape(X, (n_patterns, song_length, 1))\n",
    "print(X.shape)\n",
    "\n",
    "# Scale X\n",
    "X = X / float(len(all_notes))\n",
    "\n",
    "y = np.stack(y)\n",
    "print(y.shape)\n",
    "\n",
    "# Convert to categorical\n",
    "y = to_categorical(y)\n",
    "print(y.shape)"
   ]
  },
  {
   "cell_type": "markdown",
   "metadata": {
    "collapsed": true
   },
   "source": [
    "# Model"
   ]
  },
  {
   "cell_type": "code",
   "execution_count": 29,
   "metadata": {
    "ExecuteTime": {
     "end_time": "2018-11-25T20:18:11.322686Z",
     "start_time": "2018-11-25T20:18:10.816668Z"
    }
   },
   "outputs": [],
   "source": [
    "model = Sequential()\n",
    "model.add(LSTM(256, input_shape=(X.shape[1], X.shape[2])))\n",
    "model.add(Dense(len(all_notes)))\n",
    "model.add(Activation('softmax'))\n",
    "model.compile(loss='categorical_crossentropy', optimizer='rmsprop')"
   ]
  },
  {
   "cell_type": "code",
   "execution_count": 30,
   "metadata": {
    "ExecuteTime": {
     "end_time": "2018-11-25T20:21:47.684167Z",
     "start_time": "2018-11-25T20:18:12.928495Z"
    }
   },
   "outputs": [
    {
     "name": "stdout",
     "output_type": "stream",
     "text": [
      "Epoch 1/1\n",
      "20156/20156 [==============================] - 213s 11ms/step - loss: 3.9132\n"
     ]
    },
    {
     "data": {
      "text/plain": [
       "<keras.callbacks.History at 0x1480b3ef0>"
      ]
     },
     "execution_count": 30,
     "metadata": {},
     "output_type": "execute_result"
    }
   ],
   "source": [
    "filepath = \"../data/temp/weights-improvement-{epoch:02d}-{loss:.4f}-bigger.hdf5\"\n",
    "\n",
    "checkpoint = ModelCheckpoint(\n",
    "    filepath, monitor='loss', verbose=0, save_best_only=True, mode='min')\n",
    "callbacks_list = [checkpoint]\n",
    "\n",
    "model.fit(X, y, epochs=10, batch_size=64, callbacks=callbacks_list)"
   ]
  },
  {
   "cell_type": "markdown",
   "metadata": {},
   "source": [
    "# Predict"
   ]
  },
  {
   "cell_type": "code",
   "execution_count": 142,
   "metadata": {
    "ExecuteTime": {
     "end_time": "2018-11-25T20:50:51.166509Z",
     "start_time": "2018-11-25T20:50:51.065494Z"
    },
    "collapsed": true
   },
   "outputs": [],
   "source": [
    "def sample(preds, temperature=1.0):\n",
    "    # helper function to sample an index from a probability array\n",
    "    preds = np.asarray(preds).astype('float64')\n",
    "    preds = np.log(preds) / temperature\n",
    "    exp_preds = np.exp(preds)\n",
    "    preds = exp_preds / np.sum(exp_preds)\n",
    "    probas = np.random.multinomial(1, preds, 1)\n",
    "    return np.argmax(probas)\n",
    "\n",
    "\n",
    "def predict_note(X):\n",
    "    return sample(model.predict(np.reshape(X, (1, 150, 1)))[0])\n",
    "\n",
    "\n",
    "int_to_notes = {value: key for (key, value) in note_to_int.items()}\n",
    "\n",
    "\n",
    "def convert_note_to_original(note):\n",
    "    return int_to_notes[note]\n",
    "\n",
    "\n",
    "def generate_song(base_song, length=10):\n",
    "    x = base_song\n",
    "    y = []\n",
    "    for i in range(length):\n",
    "        y.append(predict_note(x))\n",
    "        x = np.append(x, y[-1] / float(len(all_notes)))[1:]\n",
    "    return [convert_note_to_original(note) for note in y]\n",
    "\n",
    "\n",
    "def generated_song_to_piano_roll(generated_song):\n",
    "    generated_piano_roll = np.zeros((128, len(generated_song)))\n",
    "    for i, note in enumerate(generated_song):\n",
    "        if note != -1:\n",
    "            generated_piano_roll[note, i] = 30\n",
    "    return generated_piano_roll"
   ]
  },
  {
   "cell_type": "code",
   "execution_count": 145,
   "metadata": {
    "ExecuteTime": {
     "end_time": "2018-11-25T20:51:58.643099Z",
     "start_time": "2018-11-25T20:51:54.056638Z"
    }
   },
   "outputs": [
    {
     "data": {
      "image/png": "[encoded data removed]",
      "text/plain": [
       "<matplotlib.figure.Figure at 0x13bddb3c8>"
      ]
     },
     "metadata": {},
     "output_type": "display_data"
    }
   ],
   "source": [
    "generated_song = generate_song(X[0], 150)\n",
    "generated_piano_roll = generated_song_to_piano_roll(generated_song)\n",
    "\n",
    "plt.subplots(figsize=(12, 6))\n",
    "sns.heatmap(generated_piano_roll, cmap=sns.color_palette(\"YlOrRd\"))\n",
    "plt.show()\n",
    "\n",
    "path = \"../data/temp/temp.mid\"\n",
    "piano_roll_to_pretty_midi(generated_piano_roll, fs=fs).write(path)\n",
    "pygame.mixer.music.load(path)\n",
    "pygame.mixer.music.play()"
   ]
  }
 ],
 "metadata": {
  "kernelspec": {
   "display_name": "Python [default]",
   "language": "python",
   "name": "python3"
  },
  "language_info": {
   "codemirror_mode": {
    "name": "ipython",
    "version": 3
   },
   "file_extension": ".py",
   "mimetype": "text/x-python",
   "name": "python",
   "nbconvert_exporter": "python",
   "pygments_lexer": "ipython3",
   "version": "3.6.3"
  },
  "toc": {
   "colors": {
    "hover_highlight": "#DAA520",
    "running_highlight": "#FF0000",
    "selected_highlight": "#FFD700"
   },
   "moveMenuLeft": true,
   "nav_menu": {
    "height": "105px",
    "width": "252px"
   },
   "navigate_menu": true,
   "number_sections": true,
   "sideBar": true,
   "threshold": 4,
   "toc_cell": false,
   "toc_section_display": "block",
   "toc_window_display": true,
   "widenNotebook": false
  }
 },
 "nbformat": 4,
 "nbformat_minor": 2
}
