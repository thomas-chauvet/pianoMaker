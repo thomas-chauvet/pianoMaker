{
 "cells": [
  {
   "cell_type": "code",
   "execution_count": 2,
   "metadata": {
    "ExecuteTime": {
     "end_time": "2018-11-01T19:29:27.726227Z",
     "start_time": "2018-11-01T19:29:27.636944Z"
    },
    "collapsed": true
   },
   "outputs": [],
   "source": [
    "from bs4 import BeautifulSoup\n",
    "import requests\n",
    "import os\n",
    "import re\n",
    "\n",
    "\n",
    "def flatten(x):\n",
    "    return [item for sublist in x for item in sublist]\n",
    "\n",
    "\n",
    "def get_artists_links(url=\"http://www.piano-midi.de/midi_files.htm\"):\n",
    "    soup = BeautifulSoup(requests.get(url).text, \"html.parser\")\n",
    "    artists_links_list = [\n",
    "        x.find(\"a\", href=True) for x in soup.findAll('tr', {'class': \"midi\"})\n",
    "    ]\n",
    "    return [\n",
    "        \"http://www.piano-midi.de/\" + x[\"href\"] for x in artists_links_list\n",
    "        if x is not None\n",
    "    ]\n",
    "\n",
    "\n",
    "def get_songs_list_for_artist(artist_url):\n",
    "    songs_links_list = [\n",
    "        x.find(\"a\", href=True)\n",
    "        for x in BeautifulSoup(requests.get(artist_url).text, \"html.parser\")\n",
    "        .findAll('td', {'class': \"midi\"})\n",
    "    ]\n",
    "    songs_links_list = [x for x in songs_links_list if x is not None]\n",
    "    return [\n",
    "        \"http://www.piano-midi.de/\" + x[\"href\"] for x in songs_links_list\n",
    "        if x[\"href\"].endswith(\".mid\")\n",
    "    ]\n",
    "\n",
    "\n",
    "def make_artist_directory(url, base_dir=\"../data/raw/\"):\n",
    "    path = base_dir + re.search('http://www.piano-midi.de/midis/(.*)/',\n",
    "                                url).group(1)\n",
    "    if not os.path.exists(path):\n",
    "        os.makedirs(path)\n",
    "\n",
    "\n",
    "def download_midi(url, base_dir=\"../data/raw/\"):\n",
    "    file_name = base_dir + url.replace(\"http://www.piano-midi.de/midis/\", \"\")\n",
    "    make_artist_directory(url)\n",
    "    # open in binary mode\n",
    "    with open(file_name, \"wb\") as file:\n",
    "        # get request\n",
    "        response = requests.get(url)\n",
    "        # write to file\n",
    "        file.write(response.content)\n",
    "\n",
    "\n",
    "artists_links_list = get_artists_links()\n",
    "songs_links_list = [get_songs_list_for_artist(x) for x in artists_links_list]\n",
    "songs_links_list = flatten(songs_links_list)\n",
    "_ = [download_midi(x) for x in songs_links_list]"
   ]
  }
 ],
 "metadata": {
  "kernelspec": {
   "display_name": "Python [default]",
   "language": "python",
   "name": "python3"
  },
  "language_info": {
   "codemirror_mode": {
    "name": "ipython",
    "version": 3
   },
   "file_extension": ".py",
   "mimetype": "text/x-python",
   "name": "python",
   "nbconvert_exporter": "python",
   "pygments_lexer": "ipython3",
   "version": "3.6.3"
  },
  "toc": {
   "colors": {
    "hover_highlight": "#DAA520",
    "running_highlight": "#FF0000",
    "selected_highlight": "#FFD700"
   },
   "moveMenuLeft": true,
   "nav_menu": {
    "height": "12px",
    "width": "252px"
   },
   "navigate_menu": true,
   "number_sections": true,
   "sideBar": true,
   "threshold": 4,
   "toc_cell": false,
   "toc_section_display": "block",
   "toc_window_display": false,
   "widenNotebook": false
  }
 },
 "nbformat": 4,
 "nbformat_minor": 2
}
